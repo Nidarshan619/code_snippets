{
  "nbformat": 4,
  "nbformat_minor": 0,
  "metadata": {
    "colab": {
      "name": "Math2code.ipynb",
      "provenance": [],
      "authorship_tag": "ABX9TyOCWbg5cHGNyMIYTDMuiupu",
      "include_colab_link": true
    },
    "kernelspec": {
      "name": "python3",
      "display_name": "Python 3"
    },
    "language_info": {
      "name": "python"
    }
  },
  "cells": [
    {
      "cell_type": "markdown",
      "metadata": {
        "id": "view-in-github",
        "colab_type": "text"
      },
      "source": [
        "<a href=\"https://colab.research.google.com/github/Nidarshan619/code_snippets/blob/master/Math2code.ipynb\" target=\"_parent\"><img src=\"https://colab.research.google.com/assets/colab-badge.svg\" alt=\"Open In Colab\"/></a>"
      ]
    },
    {
      "cell_type": "code",
      "metadata": {
        "id": "P1IaJkvd--V6"
      },
      "source": [
        "def sum_difference(n):\n",
        "  for i in range(n):\n",
        "    \n"
      ],
      "execution_count": null,
      "outputs": []
    },
    {
      "cell_type": "code",
      "metadata": {
        "colab": {
          "base_uri": "https://localhost:8080/"
        },
        "id": "bqMmfOhs_R4a",
        "outputId": "b3330b44-aa8f-4584-e940-2d9b46383f71"
      },
      "source": [
        "n = 5\n",
        "square_of_sum = 0\n",
        "sum_of_squares = sum([ i**2 for i in range(1,n+1,1) ])\n",
        "#sum_of_squares = [total := total+k for k in range(sum_of_square)]\n",
        "#sum_of_squares = sum(sum_of_square)\n",
        "print(sum_of_squares)\n",
        "square_of_sum =  pow(sum([ i for i in range(1,n+1,1) ]),2)\n",
        "square_of_sum"
      ],
      "execution_count": 27,
      "outputs": [
        {
          "output_type": "stream",
          "name": "stdout",
          "text": [
            "55\n"
          ]
        },
        {
          "output_type": "execute_result",
          "data": {
            "text/plain": [
              "225"
            ]
          },
          "metadata": {},
          "execution_count": 27
        }
      ]
    },
    {
      "cell_type": "code",
      "metadata": {
        "id": "zrDS5WFLBwoz"
      },
      "source": [
        "total = 0\n",
        "[total := total + x for x in [1, 2, 3, 4, 5]]"
      ],
      "execution_count": null,
      "outputs": []
    },
    {
      "cell_type": "code",
      "metadata": {
        "id": "_4dfcx8uEOZl"
      },
      "source": [
        ""
      ],
      "execution_count": null,
      "outputs": []
    }
  ]
}