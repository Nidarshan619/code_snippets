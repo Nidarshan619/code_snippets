{
  "nbformat": 4,
  "nbformat_minor": 0,
  "metadata": {
    "colab": {
      "name": "Timer_UTC.ipynb",
      "provenance": [],
      "authorship_tag": "ABX9TyOu82JjVWOkZ3DzNzsrZmuo",
      "include_colab_link": true
    },
    "kernelspec": {
      "name": "python3",
      "display_name": "Python 3"
    },
    "language_info": {
      "name": "python"
    }
  },
  "cells": [
    {
      "cell_type": "markdown",
      "metadata": {
        "id": "view-in-github",
        "colab_type": "text"
      },
      "source": [
        "<a href=\"https://colab.research.google.com/github/Nidarshan619/code_snippets/blob/master/Timer_UTC.ipynb\" target=\"_parent\"><img src=\"https://colab.research.google.com/assets/colab-badge.svg\" alt=\"Open In Colab\"/></a>"
      ]
    },
    {
      "cell_type": "markdown",
      "metadata": {
        "id": "AKW-6RatLMxX"
      },
      "source": [
        "keywords\n",
        "\n",
        "GIT Repo pbaptiste\n",
        "deepdive Repo 4th module\n",
        "30th video on using all the properties and decorators \n",
        "\n",
        "Timer Designs"
      ]
    },
    {
      "cell_type": "markdown",
      "metadata": {
        "id": "tBlMeO1PLw3m"
      },
      "source": [
        "# Imports"
      ]
    },
    {
      "cell_type": "code",
      "metadata": {
        "id": "prjTHN2PLMHA"
      },
      "source": [
        "from datetime import datetime, timezone, timedelta"
      ],
      "execution_count": 3,
      "outputs": []
    },
    {
      "cell_type": "code",
      "metadata": {
        "colab": {
          "base_uri": "https://localhost:8080/",
          "height": 167
        },
        "id": "aqU_Znc3sh4O",
        "outputId": "e67b5a1f-7d6f-44a3-d371-b7309c53f40a"
      },
      "source": [
        ""
      ],
      "execution_count": 8,
      "outputs": [
        {
          "output_type": "error",
          "ename": "TypeError",
          "evalue": "ignored",
          "traceback": [
            "\u001b[0;31m---------------------------------------------------------------------------\u001b[0m",
            "\u001b[0;31mTypeError\u001b[0m                                 Traceback (most recent call last)",
            "\u001b[0;32m<ipython-input-8-546590c2112a>\u001b[0m in \u001b[0;36m<module>\u001b[0;34m()\u001b[0m\n\u001b[0;32m----> 1\u001b[0;31m \u001b[0mtimezone\u001b[0m\u001b[0;34m.\u001b[0m\u001b[0mutc\u001b[0m\u001b[0;34m(\u001b[0m\u001b[0;34m)\u001b[0m\u001b[0;34m\u001b[0m\u001b[0;34m\u001b[0m\u001b[0m\n\u001b[0m",
            "\u001b[0;31mTypeError\u001b[0m: 'datetime.timezone' object is not callable"
          ]
        }
      ]
    },
    {
      "cell_type": "markdown",
      "metadata": {
        "id": "vuqC17d7VCAl"
      },
      "source": [
        "# Stage 1"
      ]
    },
    {
      "cell_type": "code",
      "metadata": {
        "id": "g2oKw_LXVBky"
      },
      "source": [
        "class Timer:\n",
        "  tz = timezone.utc  # Universal time co-ordinated  \n",
        "\n",
        "  @classmethod\n",
        "  def set_tz(cls,offset,name):\n",
        "    cls.tz = timezone(timedelta(hours=offset),name) "
      ],
      "execution_count": 11,
      "outputs": []
    },
    {
      "cell_type": "code",
      "metadata": {
        "id": "56H4TNJwuBTE"
      },
      "source": [
        "Timer.set_tz(-7,'MST')"
      ],
      "execution_count": 12,
      "outputs": []
    },
    {
      "cell_type": "code",
      "metadata": {
        "colab": {
          "base_uri": "https://localhost:8080/"
        },
        "id": "0LJEUMYUuueE",
        "outputId": "62b8a19e-0b9e-419f-c3c1-8ac01562023f"
      },
      "source": [
        "Timer.tz"
      ],
      "execution_count": 15,
      "outputs": [
        {
          "output_type": "execute_result",
          "data": {
            "text/plain": [
              "datetime.timezone(datetime.timedelta(days=-1, seconds=61200), 'MST')"
            ]
          },
          "metadata": {},
          "execution_count": 15
        }
      ]
    },
    {
      "cell_type": "code",
      "metadata": {
        "id": "iJasU4vFu6Q0"
      },
      "source": [
        "t1 = Timer()\n",
        "t2 = Timer()\n",
        "\n",
        "Timer.set_tz(-8,'PST')"
      ],
      "execution_count": 17,
      "outputs": []
    },
    {
      "cell_type": "code",
      "metadata": {
        "colab": {
          "base_uri": "https://localhost:8080/"
        },
        "id": "Yec259axvUx0",
        "outputId": "e7ebb82e-ae52-4f0c-a199-b1632be82a4c"
      },
      "source": [
        "t1.tz, t2.tz"
      ],
      "execution_count": 18,
      "outputs": [
        {
          "output_type": "execute_result",
          "data": {
            "text/plain": [
              "(datetime.timezone(datetime.timedelta(days=-1, seconds=57600), 'PST'),\n",
              " datetime.timezone(datetime.timedelta(days=-1, seconds=57600), 'PST'))"
            ]
          },
          "metadata": {},
          "execution_count": 18
        }
      ]
    },
    {
      "cell_type": "markdown",
      "metadata": {
        "id": "BpljGyjewGLs"
      },
      "source": [
        "# Stage 2"
      ]
    },
    {
      "cell_type": "code",
      "metadata": {
        "id": "wnjhD8tmv88X"
      },
      "source": [
        "class Timer:\n",
        "  tz = timezone.utc  # Universal time co-ordinated  \n",
        "\n",
        "  @classmethod\n",
        "  def set_tz(cls,offset,name):\n",
        "    cls.tz = timezone(timedelta(hours=offset),name) \n",
        "\n",
        "  @staticmethod\n",
        "  def current_dt_utc():\n",
        "    return datetime.now(timezone.utc)\n",
        "\n"
      ],
      "execution_count": 22,
      "outputs": []
    },
    {
      "cell_type": "code",
      "metadata": {
        "colab": {
          "base_uri": "https://localhost:8080/"
        },
        "id": "IOeok2nXwY3v",
        "outputId": "eba10f49-339f-4503-a3e5-1f85c1c0c468"
      },
      "source": [
        "t = Timer()\n",
        "\n",
        "t.current_dt_utc()"
      ],
      "execution_count": 23,
      "outputs": [
        {
          "output_type": "execute_result",
          "data": {
            "text/plain": [
              "datetime.datetime(2021, 12, 3, 0, 49, 16, 393872, tzinfo=datetime.timezone.utc)"
            ]
          },
          "metadata": {},
          "execution_count": 23
        }
      ]
    },
    {
      "cell_type": "code",
      "metadata": {
        "colab": {
          "base_uri": "https://localhost:8080/"
        },
        "id": "65bdoq-6xE7i",
        "outputId": "34439c6e-68aa-476b-9a20-b02e5fbac937"
      },
      "source": [
        "Timer.current_dt_utc()"
      ],
      "execution_count": 24,
      "outputs": [
        {
          "output_type": "execute_result",
          "data": {
            "text/plain": [
              "datetime.datetime(2021, 12, 3, 0, 49, 57, 925942, tzinfo=datetime.timezone.utc)"
            ]
          },
          "metadata": {},
          "execution_count": 24
        }
      ]
    },
    {
      "cell_type": "markdown",
      "metadata": {
        "id": "jC-WlZ6WxccP"
      },
      "source": [
        "# Stage 3"
      ]
    },
    {
      "cell_type": "code",
      "metadata": {
        "id": "wgueCii-xR7p"
      },
      "source": [
        "class Timer:\n",
        "  tz = timezone.utc  # Universal time co-ordinated  \n",
        "\n",
        "  @classmethod\n",
        "  def set_tz(cls,offset,name):\n",
        "    cls.tz = timezone(timedelta(hours=offset),name) \n",
        "\n",
        "  @staticmethod\n",
        "  def current_dt_utc():\n",
        "    return datetime.now(timezone.utc)\n",
        "\n",
        "  @classmethod\n",
        "  def current_dt(cls):\n",
        "    return datetime.now(cls.tz)"
      ],
      "execution_count": 29,
      "outputs": []
    },
    {
      "cell_type": "code",
      "metadata": {
        "colab": {
          "base_uri": "https://localhost:8080/"
        },
        "id": "vyHHDrdTx349",
        "outputId": "3087a063-bdf8-474b-f269-8b1eca65cacc"
      },
      "source": [
        "Timer.current_dt_utc(), Timer.current_dt()"
      ],
      "execution_count": 30,
      "outputs": [
        {
          "output_type": "execute_result",
          "data": {
            "text/plain": [
              "(datetime.datetime(2021, 12, 3, 0, 54, 19, 359380, tzinfo=datetime.timezone.utc),\n",
              " datetime.datetime(2021, 12, 3, 0, 54, 19, 359385, tzinfo=datetime.timezone.utc))"
            ]
          },
          "metadata": {},
          "execution_count": 30
        }
      ]
    },
    {
      "cell_type": "code",
      "metadata": {
        "id": "E9b-YJKDyOyT"
      },
      "source": [
        "t1 = Timer()\n",
        "t2 = Timer()\n",
        "\n",
        "t2.set_tz(-4, 'CET')"
      ],
      "execution_count": 34,
      "outputs": []
    },
    {
      "cell_type": "code",
      "metadata": {
        "colab": {
          "base_uri": "https://localhost:8080/"
        },
        "id": "RL078ZlEy6wS",
        "outputId": "9c53152b-bd2a-4bc1-e188-b7b3a2350e8d"
      },
      "source": [
        "t1.tz, t2.tz"
      ],
      "execution_count": 35,
      "outputs": [
        {
          "output_type": "execute_result",
          "data": {
            "text/plain": [
              "(datetime.timezone(datetime.timedelta(days=-1, seconds=72000), 'CET'),\n",
              " datetime.timezone(datetime.timedelta(days=-1, seconds=72000), 'CET'))"
            ]
          },
          "metadata": {},
          "execution_count": 35
        }
      ]
    },
    {
      "cell_type": "code",
      "metadata": {
        "id": "tVcMvOlky_Gz"
      },
      "source": [
        "  class TimerError(Exception):\n",
        "    \"\"\" A custom exception used for Timer Class\"\"\"\n",
        "\n",
        "    "
      ],
      "execution_count": 36,
      "outputs": []
    },
    {
      "cell_type": "markdown",
      "metadata": {
        "id": "gxrEBgiO3qFE"
      },
      "source": [
        "# Stage 4"
      ]
    },
    {
      "cell_type": "code",
      "metadata": {
        "id": "57GjKU_yzZIT"
      },
      "source": [
        "class Timer:\n",
        "  tz = timezone.utc  # Universal time co-ordinated  \n",
        "\n",
        "  @classmethod\n",
        "  def set_tz(cls,offset,name):\n",
        "    cls.tz = timezone(timedelta(hours=offset),name) \n",
        "\n",
        "  @staticmethod\n",
        "  def current_dt_utc():\n",
        "    return datetime.now(timezone.utc)\n",
        "\n",
        "  @classmethod\n",
        "  def current_dt(cls):\n",
        "    return datetime.now(cls.tz)\n",
        "\n",
        "\n",
        "  def start(self):\n",
        "    self._time_start = self.current_dt_utc()\n",
        "    self._time_end = None\n",
        "\n",
        "  def stop(self):\n",
        "    if self._time_start is None:\n",
        "      raise TimerError('Timer must be started before it can be stopped')\n",
        "    self._time_end = self.current_dt_utc()\n",
        "\n",
        "  @property\n",
        "  def start_time(self):\n",
        "    if self._time_start is None:\n",
        "      raise TimerError('Timer has not been started')\n",
        "    return self._time_start.astimezone(self.tz)\n",
        "\n",
        "  @property\n",
        "  def stop_time(self):\n",
        "    if self._time_end is None:\n",
        "      raise TimerError('Timer has not been stopped')\n",
        "    return self._time_end.astimezone(self.tz)\n",
        "\n",
        "  @property\n",
        "  def elapsed(self):\n",
        "    if self._time_start is None:\n",
        "      raise TimerError('First start the time yo')\n",
        "    if self._time_end is None:\n",
        "      elapsed_time = self.current_dt_utc() - self._time_start\n",
        "    else:\n",
        "      elapsed_time = self._time_end - self._time_start\n",
        "    return elapsed_time.total_seconds()\n"
      ],
      "execution_count": 38,
      "outputs": []
    },
    {
      "cell_type": "code",
      "metadata": {
        "id": "lYe018g42tGE"
      },
      "source": [
        "from time import sleep"
      ],
      "execution_count": 39,
      "outputs": []
    },
    {
      "cell_type": "code",
      "metadata": {
        "colab": {
          "base_uri": "https://localhost:8080/"
        },
        "id": "2_0B64nX22GT",
        "outputId": "eefd2ba0-4f63-4e3b-f99b-943c9e0b47ed"
      },
      "source": [
        "t1 = Timer()\n",
        "t1.start()\n",
        "sleep(5)\n",
        "t1.stop()\n",
        "print(f'start time: {t1.start_time}')\n",
        "print(f'stop time: {t1.stop_time}')\n",
        "print(f'elapsed time: {t1.elapsed}')"
      ],
      "execution_count": 40,
      "outputs": [
        {
          "output_type": "stream",
          "name": "stdout",
          "text": [
            "start time: 2021-12-03 01:17:33.942808+00:00\n",
            "stop time: 2021-12-03 01:17:38.949304+00:00\n",
            "elapsed time: 5.006496\n"
          ]
        }
      ]
    }
  ]
}