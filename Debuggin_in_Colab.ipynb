{
  "nbformat": 4,
  "nbformat_minor": 0,
  "metadata": {
    "colab": {
      "name": "Debuggin_in_Colab.ipynb",
      "provenance": [],
      "authorship_tag": "ABX9TyPFUwFUouHQFzQSvAWx27uD",
      "include_colab_link": true
    },
    "kernelspec": {
      "name": "python3",
      "display_name": "Python 3"
    },
    "language_info": {
      "name": "python"
    }
  },
  "cells": [
    {
      "cell_type": "markdown",
      "metadata": {
        "id": "view-in-github",
        "colab_type": "text"
      },
      "source": [
        "<a href=\"https://colab.research.google.com/github/Nidarshan619/code_snippets/blob/master/Debuggin_in_Colab.ipynb\" target=\"_parent\"><img src=\"https://colab.research.google.com/assets/colab-badge.svg\" alt=\"Open In Colab\"/></a>"
      ]
    },
    {
      "cell_type": "code",
      "metadata": {
        "id": "C4C9pIlVvmFb"
      },
      "source": [
        "import pdb"
      ],
      "execution_count": 21,
      "outputs": []
    },
    {
      "cell_type": "code",
      "metadata": {
        "id": "tl2ST062mu7g"
      },
      "source": [
        "def smallest_multiple(n):\n",
        "  i = n*2\n",
        "  if n<2:\n",
        "    return n\n",
        "  factors = [i for i in range(n,1,-1) if i*2 > n]\n",
        "  print(factors)\n",
        "\n",
        "  #pdb.set_trace() # Pointer (use 'n', 'c', 's')\n",
        "  while True:\n",
        "    #pdb.set_trace()\n",
        "    for a in factors:\n",
        "      if i % a != 0:\n",
        "        i = i+n\n",
        "        break\n",
        "      if (a == factors[-1] and i % a == 0):\n",
        "        return i\n",
        "      \n",
        "\n",
        "\n",
        "\n",
        "\n"
      ],
      "execution_count": 50,
      "outputs": []
    },
    {
      "cell_type": "code",
      "metadata": {
        "id": "nKSvllEUoXX7"
      },
      "source": [
        "smallest_multiple(11)"
      ],
      "execution_count": null,
      "outputs": []
    },
    {
      "cell_type": "code",
      "metadata": {
        "id": "6xWihXDbutsx"
      },
      "source": [
        "def smallest_multiple(n):\n",
        "    if (n<=2):\n",
        "      return n\n",
        "    i = n * 2\n",
        "    factors = [number  for number in range(n, 1, -1) if number * 2 > n]\n",
        "    print(factors)\n",
        "\n",
        "    while True:\n",
        "        for a in factors:\n",
        "            if i % a != 0:\n",
        "                i += n\n",
        "                break\n",
        "            if (a == factors[-1] and i % a == 0):\n",
        "                return i"
      ],
      "execution_count": 39,
      "outputs": []
    },
    {
      "cell_type": "code",
      "metadata": {
        "colab": {
          "base_uri": "https://localhost:8080/"
        },
        "id": "N9f8T4CFww6J",
        "outputId": "ee653086-68be-486a-a02e-4f528738632c"
      },
      "source": [
        "print(smallest_multiple(11))"
      ],
      "execution_count": 26,
      "outputs": [
        {
          "output_type": "stream",
          "name": "stdout",
          "text": [
            "[11, 10, 9, 8, 7, 6]\n",
            "27720\n"
          ]
        }
      ]
    }
  ]
}